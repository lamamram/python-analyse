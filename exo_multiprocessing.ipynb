{
 "cells": [
  {
   "attachments": {},
   "cell_type": "markdown",
   "metadata": {},
   "source": [
    "### calcul multiprocessing\n",
    "\n",
    "#### énoncé\n",
    "1. avaler le fichier villes_france.zip dans pandas\n",
    "2. transformer le zipcode en département\n",
    "3. créer un \"worker\" qui calcul la combinaison de toutes les distances de villes dans un dpt\n",
    "4. multiprocesser les worker dans la pool\n",
    "5. réduire le max total des max locaux"
   ]
  },
  {
   "cell_type": "code",
   "execution_count": null,
   "metadata": {},
   "outputs": [],
   "source": [
    "import os, sys\n",
    "from re import sub\n",
    "import pandas as pd\n",
    "import numpy as np\n",
    "from latloncalc.latlon import LatLon, Latitude, Longitude\n",
    "from itertools import combinations\n",
    "from multiprocessing import Pool, cpu_count, current_process"
   ]
  }
 ],
 "metadata": {
  "language_info": {
   "name": "python"
  },
  "orig_nbformat": 4
 },
 "nbformat": 4,
 "nbformat_minor": 2
}
