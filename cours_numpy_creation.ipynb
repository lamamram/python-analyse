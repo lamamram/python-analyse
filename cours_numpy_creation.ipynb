{
 "cells": [
  {
   "attachments": {},
   "cell_type": "markdown",
   "metadata": {},
   "source": [
    "# Manipulation de NUMPY"
   ]
  },
  {
   "cell_type": "code",
   "execution_count": null,
   "metadata": {},
   "outputs": [],
   "source": [
    "import numpy as np\n",
    "np.__version__"
   ]
  },
  {
   "attachments": {},
   "cell_type": "markdown",
   "metadata": {},
   "source": [
    "#### comparaison entre liste et ndarray : instanciation et opérateurs"
   ]
  },
  {
   "cell_type": "code",
   "execution_count": null,
   "metadata": {},
   "outputs": [],
   "source": [
    "# WARNING: les array != list ne sont pas des collections de types différents\n",
    "lst_homogeneous = [1, 2, 3]\n",
    "lst_implicit_conversion = [1, 2, \"ok\"] \n",
    "lst_inhomogeneous = [1,[1,2],\"ok\"]\n",
    "arr = np.array(lst_homogeneous)\n",
    "lst_homogeneous, arr"
   ]
  },
  {
   "cell_type": "code",
   "execution_count": null,
   "metadata": {},
   "outputs": [],
   "source": [
    "# signification des opérateurs: concaténation VS vectorisation ou broadcasting\n",
    "lst_homogeneous + [4,5,6], arr + np.array([4,5,6])"
   ]
  },
  {
   "cell_type": "code",
   "execution_count": null,
   "metadata": {},
   "outputs": [],
   "source": [
    "from sys import getsizeof\n",
    "from time import time\n",
    "from functools import reduce\n",
    "# performances en stockage et en calcul même avec des fonctions standars cablées en C \n",
    "lst = list(range(1000000))\n",
    "start = time()\n",
    "sum(lst)\n",
    "# reduce(lambda acc, x : acc + x, lst)\n",
    "print(f\"sum de 10**6 éléements python :{time() - start}\")\n",
    "\n",
    "arr = np.array(lst)\n",
    "start = time()\n",
    "arr.sum()\n",
    "print(f\"sum de 10**6 éléements array numpy: {time() - start}\")\n",
    "\n",
    "print(f\" otpimisation de stockage: {getsizeof(arr)/getsizeof(lst)*100}%\")"
   ]
  },
  {
   "cell_type": "markdown",
   "metadata": {},
   "source": [
    "#### manipulation des dimension des données "
   ]
  },
  {
   "cell_type": "code",
   "execution_count": null,
   "metadata": {},
   "outputs": [],
   "source": [
    "scalar = np.array(5)\n",
    "vector = np.array((1.,2.,3.))\n",
    "matrix = np.array([[1, 2, 3], [4, 5, 6]])"
   ]
  },
  {
   "cell_type": "code",
   "execution_count": null,
   "metadata": {},
   "outputs": [],
   "source": [
    "# dimension et la forme\n",
    "scalar.ndim, type(5)\n",
    "vector.ndim, type((1.,2.,3.))\n",
    "# la liste cache la 2ème dimension\n",
    "matrix.ndim, type([[1, 2, 3], [4, 5, 6]])\n",
    "\n",
    "scalar.shape, len(\"5\")\n",
    "vector.shape, len((1.,2.,3.))\n",
    "# la liste cache la 2ème dimension\n",
    "matrix.shape, len([[1, 2, 3], [4, 5, 6]])\n",
    "\n",
    "# cube de donnée\n",
    "kube = np.array([[[1, 2], [2, 4]], [[5, 6], [7, 8]]])\n",
    "f\"nb d'axes: {kube.ndim}, nb d'élem dans chaque axe: {kube.shape}, nb d'élem au total: {kube.size}\""
   ]
  },
  {
   "cell_type": "markdown",
   "metadata": {},
   "source": [
    "#### bestiaire de types"
   ]
  },
  {
   "cell_type": "code",
   "execution_count": null,
   "metadata": {},
   "outputs": [],
   "source": [
    "from sys import getsizeof\n",
    "r = range(100)\n",
    "## redimensionner le poids des données associé au pb\n",
    "## nomenclature longue => type C , objet numpy (bits)\n",
    "# arr = np.array(r, dtype=np.int16)\n",
    "# nomenclature en terme de strings (octets)\n",
    "arr = np.array(arr, dtype=\"i2\")\n",
    "# getsizeof(r), \n",
    "getsizeof(arr)\n"
   ]
  },
  {
   "cell_type": "code",
   "execution_count": null,
   "metadata": {},
   "outputs": [],
   "source": [
    "# exemples de tableaux générés\n",
    "arr = np.ones((3,3))\n",
    "print(arr, arr.shape)\n",
    "\n",
    "print(np.zeros((3,4)))\n",
    "print(np.full((3,4), 1.5))\n",
    "print(np.eye(3))"
   ]
  },
  {
   "cell_type": "code",
   "execution_count": null,
   "metadata": {},
   "outputs": [],
   "source": [
    "# reformer une structure pour l'exploiter\n",
    "serialized_matrix = [1,2,3,4,10,11,12,13,20,21,22,23]\n",
    "np.array(serialized_matrix).reshape((3,4))"
   ]
  }
 ],
 "metadata": {
  "kernelspec": {
   "display_name": ".venv",
   "language": "python",
   "name": "python3"
  },
  "language_info": {
   "codemirror_mode": {
    "name": "ipython",
    "version": 3
   },
   "file_extension": ".py",
   "mimetype": "text/x-python",
   "name": "python",
   "nbconvert_exporter": "python",
   "pygments_lexer": "ipython3",
   "version": "3.11.0"
  },
  "orig_nbformat": 4
 },
 "nbformat": 4,
 "nbformat_minor": 2
}
