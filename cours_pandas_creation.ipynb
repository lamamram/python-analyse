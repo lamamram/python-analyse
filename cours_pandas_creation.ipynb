{
 "cells": [
  {
   "attachments": {},
   "cell_type": "markdown",
   "metadata": {},
   "source": [
    "### Introduction à PANDAS"
   ]
  },
  {
   "cell_type": "code",
   "execution_count": null,
   "metadata": {},
   "outputs": [],
   "source": [
    "import pandas as pd\n",
    "import numpy as np\n",
    "from time import time\n",
    "rng = np.random.default_rng(seed=int(time()))\n",
    "pd.__version__\n"
   ]
  },
  {
   "attachments": {},
   "cell_type": "markdown",
   "metadata": {},
   "source": [
    "#### instanciation d'un Dataframe Pandas"
   ]
  },
  {
   "cell_type": "code",
   "execution_count": null,
   "metadata": {},
   "outputs": [],
   "source": [
    "data = [\n",
    "    [\"jimmy\", 28, \"2 rue de la rép, 44000 NANTES\", 1.73],\n",
    "    [\"Joan\", 33, \"12 bd Haussmann 75009 Paris\", 1.56],\n",
    "    [\"Paul\", 76, \"10, chemin des lilas, 13002 MaRSEILLE\", 1.85],\n",
    "]\n",
    "\n",
    "columns = [\"name\", \"age\", \"address\", \"size\"]\n",
    "index = [\"user1\", \"user2\", \"user3\"]"
   ]
  },
  {
   "cell_type": "code",
   "execution_count": null,
   "metadata": {},
   "outputs": [],
   "source": [
    "df = pd.DataFrame(\n",
    "    data=data,\n",
    "    columns=columns,\n",
    "    index=index\n",
    ")\n",
    "# print(df.ndim, df.shape, df.size)\n",
    "# print(df.dtypes)\n",
    "df.info()"
   ]
  },
  {
   "cell_type": "code",
   "execution_count": null,
   "metadata": {},
   "outputs": [],
   "source": [
    "# column set\n",
    "col_data = np.array(data).T.tolist()\n",
    "col_set = dict(zip(columns, col_data))\n",
    "col_set\n",
    "pd.DataFrame(data=col_set, index=index)"
   ]
  },
  {
   "cell_type": "code",
   "execution_count": null,
   "metadata": {},
   "outputs": [],
   "source": [
    "# records => objets json => dict\n",
    "records = np.apply_along_axis(\n",
    "    lambda row: dict(zip(columns, row)),\n",
    "    arr=data,\n",
    "    axis=1\n",
    ")\n",
    "df = pd.DataFrame.from_records(\n",
    "    records, \n",
    "    # index=index\n",
    ")\n",
    "df"
   ]
  },
  {
   "attachments": {},
   "cell_type": "markdown",
   "metadata": {},
   "source": [
    "#### écriture vs lecture"
   ]
  },
  {
   "cell_type": "code",
   "execution_count": null,
   "metadata": {},
   "outputs": [],
   "source": [
    "df.to_csv(\n",
    "    \"users.csv\",\n",
    "    sep=\";\",\n",
    "    encoding=\"utf8\",\n",
    "    # index non signifiant\n",
    "    # index=False\n",
    ")"
   ]
  },
  {
   "cell_type": "code",
   "execution_count": null,
   "metadata": {},
   "outputs": [],
   "source": [
    "df = pd.read_csv(\n",
    "    \"users.csv\",\n",
    "    sep=\";\",\n",
    "    encoding=\"utf8\",\n",
    "    # retrouver l'index\n",
    "    index_col=0,\n",
    "    # usecols=(0,1,2,4)\n",
    "    usecols=list(range(3)) + [4]\n",
    ")\n",
    "df"
   ]
  },
  {
   "cell_type": "code",
   "execution_count": null,
   "metadata": {},
   "outputs": [],
   "source": [
    "df.to_json(\n",
    "    \"users.json\",\n",
    "    ## objets json-> dict\n",
    "    orient=\"records\",\n",
    "    ## dispatch index, colonnes, liste de lignes\n",
    "    # orient=\"split\"\n",
    "    ## set de lignes\n",
    "    # orient=\"index\"\n",
    "    ##\n",
    "    # orient=\"table\",\n",
    "    force_ascii=False,\n",
    "    indent=2\n",
    ")"
   ]
  }
 ],
 "metadata": {
  "kernelspec": {
   "display_name": ".venv",
   "language": "python",
   "name": "python3"
  },
  "language_info": {
   "codemirror_mode": {
    "name": "ipython",
    "version": 3
   },
   "file_extension": ".py",
   "mimetype": "text/x-python",
   "name": "python",
   "nbconvert_exporter": "python",
   "pygments_lexer": "ipython3",
   "version": "3.11.0"
  },
  "orig_nbformat": 4
 },
 "nbformat": 4,
 "nbformat_minor": 2
}
