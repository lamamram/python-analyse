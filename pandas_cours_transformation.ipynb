{
 "cells": [
  {
   "attachments": {},
   "cell_type": "markdown",
   "metadata": {},
   "source": [
    "### transformations du dataframe"
   ]
  },
  {
   "cell_type": "code",
   "execution_count": null,
   "metadata": {},
   "outputs": [],
   "source": [
    "import pandas as pd\n",
    "import numpy as np\n",
    "from time import time\n",
    "rng = np.random.default_rng(seed=int(time()))\n",
    "pd.__version__"
   ]
  },
  {
   "cell_type": "code",
   "execution_count": null,
   "metadata": {},
   "outputs": [],
   "source": [
    "url = \"http://raw.githubusercontent.com/mwaskom/seaborn-data/master/penguins.csv\"\n",
    "penguins_df = pd.read_csv(\n",
    "    url,\n",
    "    encoding=\"utf8\"\n",
    ")\n",
    "penguins_df"
   ]
  },
  {
   "cell_type": "code",
   "execution_count": null,
   "metadata": {},
   "outputs": [],
   "source": [
    "# analyser une portion donnée déterminée par un offset et une limit\n",
    "def analyse_df(df: pd.DataFrame, offset: int, limit: int):\n",
    "    \"\"\"\n",
    "    df: dataframe ....\n",
    "    \"\"\"\n",
    "    return df.iloc[offset:offset + limit]\n",
    "\n",
    "print(analyse_df.__annotations__, analyse_df.__doc__)\n",
    "\n",
    "analyse_df(penguins_df, 100, 20)\n"
   ]
  },
  {
   "attachments": {},
   "cell_type": "markdown",
   "metadata": {},
   "source": [
    "#### transformation \"arithmétiques\""
   ]
  },
  {
   "cell_type": "code",
   "execution_count": null,
   "metadata": {},
   "outputs": [],
   "source": [
    "penguins_df.rename(columns={\n",
    "    \"body_mass_g\": \"body_mass_kg\",\n",
    "    \"flipper_length_mm\": \"flipper_length_percent\"\n",
    "}, inplace=True)\n",
    "penguins_df[\"body_mass_kg\"] /= 1000\n",
    "maxi = penguins_df[\"flipper_length_percent\"].max()\n",
    "penguins_df[\"flipper_length_percent\"] = np.around((penguins_df[\"flipper_length_percent\"] / maxi * 100), 1)\n",
    "penguins_df.sort_values(by=[\"species\", \"flipper_length_percent\"], ascending=[True, False])"
   ]
  },
  {
   "attachments": {},
   "cell_type": "markdown",
   "metadata": {},
   "source": [
    "### aggrégats pourcentiles"
   ]
  },
  {
   "cell_type": "code",
   "execution_count": null,
   "metadata": {},
   "outputs": [],
   "source": [
    "penguins_df.mean(numeric_only=True)\n",
    "penguins_df.select_dtypes(include=[\"float64\"]).mean()"
   ]
  },
  {
   "cell_type": "code",
   "execution_count": null,
   "metadata": {},
   "outputs": [],
   "source": [
    "arr = rng.normal(10, 2, size=100)\n",
    "np.percentile(arr, q=[0, 25, 50, 75, 100])"
   ]
  },
  {
   "cell_type": "code",
   "execution_count": null,
   "metadata": {},
   "outputs": [],
   "source": [
    "# je veux les valeurs audessous j'ai un 1/3 (coresp 2/3) les plus petits et au dessus 2/3 (crresp. 1/3) les plus grands\n",
    "penguins_df.quantile(numeric_only=True, q=[0,0.33,0.66,1])"
   ]
  },
  {
   "cell_type": "code",
   "execution_count": null,
   "metadata": {},
   "outputs": [],
   "source": [
    "# décliles => [0, 0.1, 0.2, ..., 1]\n",
    "list(map(lambda r: r/10, range(11)))\n",
    "# généralisation de la range\n",
    "deciles = np.arange(11) / 10\n",
    "penguins_df[\"body_mass_kg\"].quantile(q=deciles)"
   ]
  },
  {
   "cell_type": "code",
   "execution_count": null,
   "metadata": {},
   "outputs": [],
   "source": [
    "# créer une fonction pour le quartile àà partir de .quantile(0.25)\n",
    "def quartile(s: pd.Series):\n",
    "    return s.quantile(0.25)\n",
    "\n",
    "# créer une fonction de retourner la moyenne des 5 premiers les plus grands\n",
    "# \"fermeture\" en python\n",
    "def avg_top(n: int):\n",
    "    def f(s: pd.Series):\n",
    "        return s.sort_values(ascending=False).head(n).mean()\n",
    "    f.__name__ = f\"avg_top_{n}\"\n",
    "    return f\n",
    "\n",
    "def avg_top_5(s: pd.Series):\n",
    "    return s.sort_values(ascending=False).head(5).mean()\n",
    "\n",
    "penguins_df.agg({\n",
    "    \"body_mass_kg\": [\"mean\", np.std],\n",
    "    # \"bill_depth_mm\": [avg_top_5, quartile]\n",
    "    \"bill_depth_mm\": [avg_top(5), quartile]\n",
    "})"
   ]
  },
  {
   "cell_type": "code",
   "execution_count": null,
   "metadata": {},
   "outputs": [],
   "source": [
    "# volume du bec i.e cône = 1/3 * hauteur * PI * D/2 **2\n",
    "volume_bill_mm3 = np.around(1/3 * penguins_df[\"bill_length_mm\"] * np.pi * (penguins_df[\"bill_depth_mm\"]/2)**2)\n",
    "volume_bill_mm3\n",
    "# penguins_df[\"volume_bill_mm3\"] = volume_bill_mm3"
   ]
  },
  {
   "cell_type": "code",
   "execution_count": null,
   "metadata": {},
   "outputs": [],
   "source": [
    "## méthode APPLY\n",
    "penguins_df[\"volume_bill_mm3\"] = penguins_df.apply(lambda r: 1/3 * r[\"bill_length_mm\"] * np.pi * (r[\"bill_depth_mm\"]/2)**2, axis=1)\n",
    "penguins_df.insert(4, value=volume_bill_mm3, column=\"volume_bill_mm3\")\n",
    "penguins_df"
   ]
  },
  {
   "attachments": {},
   "cell_type": "markdown",
   "metadata": {},
   "source": [
    "### transformation de chaines de caractères"
   ]
  },
  {
   "cell_type": "code",
   "execution_count": null,
   "metadata": {},
   "outputs": [],
   "source": [
    "df = pd.read_csv(\n",
    "    \"users.csv\",\n",
    "    sep=\";\",\n",
    "    encoding=\"utf8\",\n",
    "    index_col=0,\n",
    "    na_values=[\"???\", \"--\"]\n",
    ")\n",
    "df"
   ]
  },
  {
   "cell_type": "code",
   "execution_count": null,
   "metadata": {},
   "outputs": [],
   "source": [
    "lastnames = [\"Hendrix\", \"Baez\", \"McCartney\"]\n",
    "df[\"name\"] = df[\"name\"] + \" \" + lastnames "
   ]
  },
  {
   "cell_type": "code",
   "execution_count": null,
   "metadata": {},
   "outputs": [],
   "source": [
    "# df[[\"name\", \"latname\"]] = df[\"name\"].str.split(expand=True)\n",
    "split_df = df[\"name\"].str.split(expand=True)\n",
    "df[\"name\"] = split_df[0]\n",
    "df.rename({\"name\": \"firstname\"}, inplace=True)\n",
    "df.insert(1, \"last_name\", split_df[1])\n",
    "df\n"
   ]
  },
  {
   "cell_type": "code",
   "execution_count": null,
   "metadata": {},
   "outputs": [],
   "source": [
    "zipcode_patt = \"[013456789][0-9]{4}|2[AB0-9][0-9]{3}\"\n",
    "address_df = df[\"address\"].str.extract(\"(?P<street>.*) (?P<zipcode>\"+ zipcode_patt +\") (?P<city>.*)\")"
   ]
  },
  {
   "cell_type": "code",
   "execution_count": null,
   "metadata": {},
   "outputs": [],
   "source": [
    "df.drop(columns=\"address\", inplace=True)\n",
    "pd.concat([df, address_df], axis=1)"
   ]
  }
 ],
 "metadata": {
  "kernelspec": {
   "display_name": ".venv",
   "language": "python",
   "name": "python3"
  },
  "language_info": {
   "codemirror_mode": {
    "name": "ipython",
    "version": 3
   },
   "file_extension": ".py",
   "mimetype": "text/x-python",
   "name": "python",
   "nbconvert_exporter": "python",
   "pygments_lexer": "ipython3",
   "version": "3.11.0"
  },
  "orig_nbformat": 4
 },
 "nbformat": 4,
 "nbformat_minor": 2
}
