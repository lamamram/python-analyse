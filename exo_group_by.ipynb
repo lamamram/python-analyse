{
 "cells": [
  {
   "attachments": {},
   "cell_type": "markdown",
   "metadata": {},
   "source": [
    "### TITANIC\n",
    "* à partir de l'url suivante: \n",
    "  [http://raw.githubusercontent.com/mwaskom/seaborn-data/master/titanic.csv](http://raw.githubusercontent.com/mwaskom/seaborn-data/master/titanic.csv)\n",
    "\n",
    "* scruter les données, les **champs utiles** ...\n",
    "* calculer le **nb, la somme et le pourcentage de survivants** chez **les femmes et les enfants** par **classe**\n"
   ]
  },
  {
   "cell_type": "markdown",
   "metadata": {},
   "source": []
  }
 ],
 "metadata": {
  "language_info": {
   "name": "python"
  },
  "orig_nbformat": 4
 },
 "nbformat": 4,
 "nbformat_minor": 2
}
