{
 "cells": [
  {
   "attachments": {},
   "cell_type": "markdown",
   "metadata": {},
   "source": [
    "### construire et dessiner l'évolution de la T°C en FRANCE depuis 1800\n",
    "\n",
    "> source: [ici](https://www.kaggle.com/datasets/berkeleyearth/climate-change-earth-surface-temperature-data?select=GlobalLandTemperaturesByCountry.csv)"
   ]
  },
  {
   "cell_type": "code",
   "execution_count": null,
   "metadata": {},
   "outputs": [],
   "source": [
    "import pandas as pd\n",
    "import numpy as np\n",
    "import matplotlib.pyplot as plt\n",
    "from datetime import datetime\n",
    "from time import time\n",
    "rng = np.random.default_rng(seed=int(time()))\n",
    "pd.__version__\n",
    "\n",
    "URL=\"https://raw.githubusercontent.com/bandeDeCodeurs/dataviz_temperatures_france/main/GlobalLandTemperaturesByCountry.csv\"\n",
    "FINAL_URL=\"https://fr.wikipedia.org/wiki/Climat_de_la_France\""
   ]
  },
  {
   "cell_type": "code",
   "execution_count": null,
   "metadata": {},
   "outputs": [],
   "source": [
    "# téléchargement + écriture en local\n",
    "pd.read_csv(\n",
    "    URL,\n",
    ").to_csv(\n",
    "    \"big_mean_global_temperature_1748_2013.csv\",\n",
    "    encoding=\"utf8\",\n",
    "    index=False\n",
    ")"
   ]
  },
  {
   "cell_type": "code",
   "execution_count": null,
   "metadata": {},
   "outputs": [],
   "source": [
    "temp_df = pd.read_csv(\n",
    "    \"big_mean_global_temperature_1748_2013.csv\",\n",
    "    encoding=\"utf8\",\n",
    "    index_col=\"dt\",\n",
    "    parse_dates=True\n",
    ")\n",
    "# compléter les données d'une autre source\n",
    "## read_html : trouver les <table> HTML dans une liste, chaque élément est converti en dataframe\n",
    "# attention aux formats en terme de décimaux et milliers\n",
    "wiki_df = pd.read_html(FINAL_URL, thousands=\".\",  decimal=\",\")[2]\n",
    "temp_df\n",
    "wiki_df\n"
   ]
  },
  {
   "cell_type": "code",
   "execution_count": null,
   "metadata": {},
   "outputs": [],
   "source": [
    "# temp_df[\"Country\"].unique()\n",
    "after_1800 = temp_df.index >= datetime.strptime(\"1800-01-01\", \"%Y-%m-%d\")\n",
    "temp_df = temp_df.loc[(after_1800) & (temp_df[\"Country\"] == \"France (Europe)\")]\n",
    "temp_df.drop(columns=[\"AverageTemperatureUncertainty\", \"Country\"], inplace=True)\n",
    "temp_df"
   ]
  },
  {
   "cell_type": "code",
   "execution_count": null,
   "metadata": {},
   "outputs": [],
   "source": [
    "wiki_df = wiki_df.iloc[0:10, 0:2]\n",
    "# wiki_df.drop(labels=wiki_df.index[10:]).drop(columns=wiki_df.columns[2:])\n",
    "\n",
    "## remplacement vectorisé, utilisation de groupe de capture\n",
    "# en oublie pas que le groupe n°0 c'est la regex elle même donc (\\d{4}) es t le groupe n°1\n",
    "# et on peut utiliser les références arrières en injectant le contenu d'un groupe ici \\\\1\n",
    "wiki_df[\"Année\"] = wiki_df[\"Année\"].str.replace(pat=\"(\\d{4})\\[[a-z]\\]\", repl=\"\\\\1\", regex=True)\n",
    "# conversion en date\n",
    "wiki_df[\"Année\"] = pd.to_datetime(wiki_df[\"Année\"], format=\"%Y\")\n",
    "wiki_df.set_index(\"Année\", inplace=True)\n",
    "wiki_df.sort_index(ascending=True, inplace=True)\n",
    "\n",
    "wiki_df"
   ]
  },
  {
   "cell_type": "code",
   "execution_count": null,
   "metadata": {},
   "outputs": [],
   "source": [
    "# pb T° par mois VS T° par année : version artisanale\n",
    "def get_temp_year(df: pd.DataFrame, ind):\n",
    "    year = df.index[ind].year\n",
    "    tmp_df = df[ind:ind+12].reset_index()\n",
    "    # shift: décaler les données par rapport à l'index vers le haut < 0 et le bas > 0\n",
    "    tmp_df[\"dt\"] = tmp_df[\"dt\"].diff().shift(-1)\n",
    "    tmp_df[\"dt\"] = tmp_df[\"dt\"].dt.days.fillna(31.).astype(\"i2\")\n",
    "    t = round(tmp_df.apply(lambda r: r[\"dt\"]*r[\"AverageTemperature\"], axis=1).sum()/365, 2)\n",
    "    return pd.DataFrame(data=[[year, t]])\n",
    "\n",
    "container = []\n",
    "for i in range(0, 212 * 12, 12):\n",
    "    container.append(get_temp_year(temp_df, i))\n",
    "pd.concat(container, axis=0)"
   ]
  },
  {
   "cell_type": "code",
   "execution_count": null,
   "metadata": {},
   "outputs": [],
   "source": [
    "# pb T° par mois VS T° par année : version magique\n",
    "temp_df = temp_df.resample(\"Y\", kind=\"period\").mean().rename(columns={\"AverageTemperature\": \"Moyenne annuelle\"})\n",
    "wiki_df.index = wiki_df.index.strftime(\"%Y\")"
   ]
  },
  {
   "cell_type": "code",
   "execution_count": null,
   "metadata": {},
   "outputs": [],
   "source": [
    "complete_df = pd.concat([temp_df, wiki_df], axis=0)\n",
    "del temp_df\n",
    "del wiki_df\n"
   ]
  },
  {
   "cell_type": "code",
   "execution_count": null,
   "metadata": {},
   "outputs": [],
   "source": [
    "complete_df"
   ]
  },
  {
   "cell_type": "code",
   "execution_count": null,
   "metadata": {},
   "outputs": [],
   "source": []
  }
 ],
 "metadata": {
  "kernelspec": {
   "display_name": ".venv",
   "language": "python",
   "name": "python3"
  },
  "language_info": {
   "codemirror_mode": {
    "name": "ipython",
    "version": 3
   },
   "file_extension": ".py",
   "mimetype": "text/x-python",
   "name": "python",
   "nbconvert_exporter": "python",
   "pygments_lexer": "ipython3",
   "version": "3.11.0"
  },
  "orig_nbformat": 4
 },
 "nbformat": 4,
 "nbformat_minor": 2
}
