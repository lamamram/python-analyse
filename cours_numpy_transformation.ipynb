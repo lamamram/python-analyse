{
 "cells": [
  {
   "attachments": {},
   "cell_type": "markdown",
   "metadata": {},
   "source": [
    "#### transformer un tableau"
   ]
  },
  {
   "cell_type": "code",
   "execution_count": 2,
   "metadata": {},
   "outputs": [
    {
     "data": {
      "text/plain": [
       "'1.26.3'"
      ]
     },
     "execution_count": 2,
     "metadata": {},
     "output_type": "execute_result"
    }
   ],
   "source": [
    "import numpy as np\n",
    "from time import time\n",
    "rng = np.random.default_rng(seed=int(time()))\n",
    "np.__version__"
   ]
  },
  {
   "cell_type": "code",
   "execution_count": 6,
   "metadata": {},
   "outputs": [
    {
     "data": {
      "text/plain": [
       "array([[13, 14,  0, 19],\n",
       "       [ 8, 17, 15, 13],\n",
       "       [ 3, 15, 11,  6],\n",
       "       [ 7,  2, 20, 11]], dtype=int8)"
      ]
     },
     "execution_count": 6,
     "metadata": {},
     "output_type": "execute_result"
    }
   ],
   "source": [
    "arr = rng.integers(\n",
    "    0, 20, \n",
    "    size=16, \n",
    "    dtype=np.int8, \n",
    "    endpoint=True\n",
    ").reshape(4, 4)\n",
    "arr"
   ]
  },
  {
   "cell_type": "code",
   "execution_count": 15,
   "metadata": {},
   "outputs": [
    {
     "data": {
      "text/plain": [
       "array([[14, 16,  3, 23],\n",
       "       [ 9, 19, 18, 17],\n",
       "       [ 4, 17, 14, 10],\n",
       "       [ 8,  4, 23, 15]])"
      ]
     },
     "execution_count": 15,
     "metadata": {},
     "output_type": "execute_result"
    }
   ],
   "source": [
    "# broadcast matrice + vecteur (ligne)\n",
    "arr + [1, 2, 3, 4]\n",
    "arr + np.array([1, 2, 3, 4])\n",
    "arr + np.array([1, 2, 3, 4]).reshape(1, 4)\n"
   ]
  },
  {
   "cell_type": "code",
   "execution_count": 16,
   "metadata": {},
   "outputs": [
    {
     "data": {
      "text/plain": [
       "array([[14, 15,  1, 20],\n",
       "       [10, 19, 17, 15],\n",
       "       [ 6, 18, 14,  9],\n",
       "       [11,  6, 24, 15]])"
      ]
     },
     "execution_count": 16,
     "metadata": {},
     "output_type": "execute_result"
    }
   ],
   "source": [
    "# broadcast matrice + vecteur (colonne)\n",
    "arr + np.array([1, 2, 3, 4]).reshape(4, 1)"
   ]
  },
  {
   "cell_type": "code",
   "execution_count": 17,
   "metadata": {},
   "outputs": [
    {
     "data": {
      "text/plain": [
       "(array([[1, 2, 3, 4]]),\n",
       " array([[1],\n",
       "        [2],\n",
       "        [3],\n",
       "        [4]]))"
      ]
     },
     "execution_count": 17,
     "metadata": {},
     "output_type": "execute_result"
    }
   ],
   "source": [
    "# reshape (x, y) => (y, x) => transposition\n",
    "row = np.array([1, 2, 3, 4]).reshape(1, 4)\n",
    "col = row.T\n",
    "row, col"
   ]
  },
  {
   "cell_type": "code",
   "execution_count": 20,
   "metadata": {},
   "outputs": [
    {
     "data": {
      "text/plain": [
       "array([[ 1,  2,  3,  4],\n",
       "       [ 2,  4,  6,  8],\n",
       "       [ 3,  6,  9, 12],\n",
       "       [ 4,  8, 12, 16]])"
      ]
     },
     "execution_count": 20,
     "metadata": {},
     "output_type": "execute_result"
    }
   ],
   "source": [
    "# row.dot(col) => normal 1, 4 x 4, 1 => scalire\n",
    "row @ col\n",
    "# attention 4, 1 x 1, 4 => matrice 4, 4\n",
    "col @ row"
   ]
  },
  {
   "cell_type": "code",
   "execution_count": 21,
   "metadata": {},
   "outputs": [
    {
     "ename": "ValueError",
     "evalue": "matmul: Input operand 1 has a mismatch in its core dimension 0, with gufunc signature (n?,k),(k,m?)->(n?,m?) (size 4 is different from 3)",
     "output_type": "error",
     "traceback": [
      "\u001b[1;31m---------------------------------------------------------------------------\u001b[0m",
      "\u001b[1;31mValueError\u001b[0m                                Traceback (most recent call last)",
      "Cell \u001b[1;32mIn[21], line 1\u001b[0m\n\u001b[1;32m----> 1\u001b[0m [\u001b[39m1\u001b[39;49m, \u001b[39m2\u001b[39;49m, \u001b[39m4\u001b[39;49m] \u001b[39m@\u001b[39;49m col\n",
      "\u001b[1;31mValueError\u001b[0m: matmul: Input operand 1 has a mismatch in its core dimension 0, with gufunc signature (n?,k),(k,m?)->(n?,m?) (size 4 is different from 3)"
     ]
    }
   ],
   "source": [
    "# certaines opérations ont besoin de dimension analogues\n",
    "[1, 2, 4] @ col"
   ]
  },
  {
   "cell_type": "code",
   "execution_count": 24,
   "metadata": {},
   "outputs": [
    {
     "ename": "ValueError",
     "evalue": "operands could not be broadcast together with shapes (4,4) (4,2) ",
     "output_type": "error",
     "traceback": [
      "\u001b[1;31m---------------------------------------------------------------------------\u001b[0m",
      "\u001b[1;31mValueError\u001b[0m                                Traceback (most recent call last)",
      "Cell \u001b[1;32mIn[24], line 2\u001b[0m\n\u001b[0;32m      1\u001b[0m \u001b[39m## on ne peut broadcaster qu'avec une variable qui contient au moins une dimension complète\u001b[39;00m\n\u001b[1;32m----> 2\u001b[0m arr \u001b[39m+\u001b[39;49m np\u001b[39m.\u001b[39;49mones((\u001b[39m4\u001b[39;49m, \u001b[39m2\u001b[39;49m))\n",
      "\u001b[1;31mValueError\u001b[0m: operands could not be broadcast together with shapes (4,4) (4,2) "
     ]
    }
   ],
   "source": [
    "## atention: pour broadcaster la variable \n",
    "## doit avoir des dimensions analogues a la variable de départ\n",
    "arr + np.ones((4,2))"
   ]
  },
  {
   "cell_type": "code",
   "execution_count": 25,
   "metadata": {},
   "outputs": [
    {
     "data": {
      "text/plain": [
       "array([[40, 44,  3, 61],\n",
       "       [25, 53, 48, 43],\n",
       "       [10, 47, 36, 22],\n",
       "       [22,  8, 63, 37]])"
      ]
     },
     "execution_count": 25,
     "metadata": {},
     "output_type": "execute_result"
    }
   ],
   "source": [
    "# application linéaire\n",
    "3 * arr + row"
   ]
  },
  {
   "cell_type": "code",
   "execution_count": 27,
   "metadata": {},
   "outputs": [
    {
     "data": {
      "text/plain": [
       "array([[2.48, 1.71, 2.57, 2.56],\n",
       "       [1.42, 1.3 , 0.81, 2.48],\n",
       "       [0.58, 0.81, 1.58, 2.53],\n",
       "       [2.32, 1.15, 1.98, 1.58]], dtype=float16)"
      ]
     },
     "execution_count": 27,
     "metadata": {},
     "output_type": "execute_result"
    }
   ],
   "source": [
    "# vectorisation permet la lisibilité du code et \n",
    "# d'oublier la boucle for en python (moins performante)\n",
    "np.around(np.cos(arr) + np.pi / 2, 2)"
   ]
  },
  {
   "cell_type": "code",
   "execution_count": 28,
   "metadata": {},
   "outputs": [
    {
     "data": {
      "text/plain": [
       "array([[  1.65,  64.  , 126.  ,  76.  ],\n",
       "       [  1.78,  95.  , 136.  ,  85.  ]])"
      ]
     },
     "execution_count": 28,
     "metadata": {},
     "output_type": "execute_result"
    }
   ],
   "source": [
    "patients = np.array([[1.65, 64, 126, 76], [1.78, 95, 136, 85]])\n",
    "patients"
   ]
  },
  {
   "cell_type": "code",
   "execution_count": 38,
   "metadata": {},
   "outputs": [
    {
     "data": {
      "text/plain": [
       "array([66.9125, 79.445 ])"
      ]
     },
     "execution_count": 38,
     "metadata": {},
     "output_type": "execute_result"
    }
   ],
   "source": [
    "# aggrégats liés à toutes les données\n",
    "# patients.mean(), patients.max(), patients.size \n",
    "np.mean(patients, axis=0)\n",
    "# la moyenne est appliquée sur les objets lignes directement\n",
    "(patients[0] + patients[1])/2\n",
    "\n",
    "np.mean(patients, axis=1)\n",
    "# la moyenne est appliquée à l'intérieur des lignes i.e les objets colonnes\n",
    "np.array([patients[0].mean(), patients[1].mean()])\n",
    "np.mean(patients.T, axis=0)\n",
    "\n",
    "# ==> axis = 0 == LIGNE, axis =1 == COLONNES\n"
   ]
  },
  {
   "cell_type": "code",
   "execution_count": 47,
   "metadata": {},
   "outputs": [
    {
     "data": {
      "text/plain": [
       "array([23.50780533, 29.98358793])"
      ]
     },
     "execution_count": 47,
     "metadata": {},
     "output_type": "execute_result"
    }
   ],
   "source": [
    "# example de l'imc donc je dois manipuler les attributs des lignes donc => les objets colones\n",
    "# avec des lambda = avec l'axe 1 => le param de la fct est la ligne\n",
    "np.apply_along_axis(lambda line : line[1]/(line[0]**2), arr=patients, axis=1)"
   ]
  },
  {
   "cell_type": "code",
   "execution_count": 49,
   "metadata": {},
   "outputs": [
    {
     "data": {
      "text/plain": [
       "array([  1.72428571,  81.71428571, 131.71428571,  81.14285714])"
      ]
     },
     "execution_count": 49,
     "metadata": {},
     "output_type": "execute_result"
    }
   ],
   "source": [
    "# fonction custom sur les lignes\n",
    "# avec des lambda = avec l'axe 0 => le param de la fct est la colonne\n",
    "np.apply_along_axis(lambda c: np.average(c, weights=[0.75,1]), arr=patients, axis=0)\n",
    "(0.75*patients[0] + patients[1])/1.75"
   ]
  },
  {
   "attachments": {},
   "cell_type": "markdown",
   "metadata": {},
   "source": [
    "#### filtrer un tableau"
   ]
  },
  {
   "cell_type": "code",
   "execution_count": 50,
   "metadata": {},
   "outputs": [
    {
     "data": {
      "text/plain": [
       "array([ 4, 24, 84, 67, 17, 76, 47, 37, 94, 52, 10, 63, 18, 97, 45, 93, 21,\n",
       "        2, 23, 67], dtype=int64)"
      ]
     },
     "execution_count": 50,
     "metadata": {},
     "output_type": "execute_result"
    }
   ],
   "source": [
    "arr = rng.integers(1, 100, size=20)\n",
    "arr"
   ]
  },
  {
   "cell_type": "code",
   "execution_count": 60,
   "metadata": {},
   "outputs": [
    {
     "data": {
      "text/plain": [
       "array([ 4, 24, 10, 18,  2], dtype=int64)"
      ]
     },
     "execution_count": 60,
     "metadata": {},
     "output_type": "execute_result"
    }
   ],
   "source": [
    "cond_inf_50 = arr < 50\n",
    "# transtypage en booléen\n",
    "cond_odd = (arr % 2).astype(dtype=np.bool_)\n",
    "# arr[cond_inf_50]\n",
    "## opérateurs booléen en filtrage: &, |, ~ non\n",
    "arr[(arr < 50) & (~cond_odd)]"
   ]
  },
  {
   "cell_type": "code",
   "execution_count": 59,
   "metadata": {},
   "outputs": [
    {
     "data": {
      "text/plain": [
       "array([False, False, False,  True,  True, False,  True,  True, False,\n",
       "       False, False,  True, False,  True,  True,  True,  True, False,\n",
       "        True,  True])"
      ]
     },
     "execution_count": 59,
     "metadata": {},
     "output_type": "execute_result"
    }
   ],
   "source": [
    "(arr % 2).astype(dtype=\"bool\")\n"
   ]
  },
  {
   "cell_type": "code",
   "execution_count": 78,
   "metadata": {},
   "outputs": [
    {
     "name": "stdout",
     "output_type": "stream",
     "text": [
      "[6 7 5 9 7 6 5 2 4 5] [2 3 8 3 2 1 4 6 5 9]\n",
      "[1 3 7 8]\n"
     ]
    },
    {
     "data": {
      "text/plain": [
       "array([7], dtype=int64)"
      ]
     },
     "execution_count": 78,
     "metadata": {},
     "output_type": "execute_result"
    }
   ],
   "source": [
    "# unpacking\n",
    "arr1, arr2 = [ rng.integers(1, 10, size=10) for _ in range(2) ]\n",
    "print(arr1, arr2)\n",
    "# Q: rendre le tableau des valeurs qui ne sont pas doublonné\n",
    "print(np.unique(np.concatenate([arr1[~np.isin(arr1, arr2)], arr2[~np.isin(arr2, arr1)]])))\n"
   ]
  },
  {
   "cell_type": "code",
   "execution_count": null,
   "metadata": {},
   "outputs": [],
   "source": []
  },
  {
   "cell_type": "code",
   "execution_count": null,
   "metadata": {},
   "outputs": [],
   "source": []
  }
 ],
 "metadata": {
  "kernelspec": {
   "display_name": ".venv",
   "language": "python",
   "name": "python3"
  },
  "language_info": {
   "codemirror_mode": {
    "name": "ipython",
    "version": 3
   },
   "file_extension": ".py",
   "mimetype": "text/x-python",
   "name": "python",
   "nbconvert_exporter": "python",
   "pygments_lexer": "ipython3",
   "version": "3.11.0"
  },
  "orig_nbformat": 4
 },
 "nbformat": 4,
 "nbformat_minor": 2
}
