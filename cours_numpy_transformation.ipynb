{
 "cells": [
  {
   "attachments": {},
   "cell_type": "markdown",
   "metadata": {},
   "source": [
    "#### transformer un tableau"
   ]
  },
  {
   "cell_type": "code",
   "execution_count": 2,
   "metadata": {},
   "outputs": [
    {
     "data": {
      "text/plain": [
       "'1.26.3'"
      ]
     },
     "execution_count": 2,
     "metadata": {},
     "output_type": "execute_result"
    }
   ],
   "source": [
    "import numpy as np\n",
    "from time import time\n",
    "rng = np.random.default_rng(seed=int(time()))\n",
    "np.__version__"
   ]
  },
  {
   "cell_type": "code",
   "execution_count": null,
   "metadata": {},
   "outputs": [],
   "source": [
    "arr = rng.integers(\n",
    "    0, 20, \n",
    "    size=16, \n",
    "    dtype=np.int8, \n",
    "    endpoint=True\n",
    ").reshape(4, 4)\n",
    "arr"
   ]
  },
  {
   "cell_type": "code",
   "execution_count": null,
   "metadata": {},
   "outputs": [],
   "source": [
    "# broadcast matrice + vecteur (ligne)\n",
    "arr + [1, 2, 3, 4]\n",
    "arr + np.array([1, 2, 3, 4])\n",
    "arr + np.array([1, 2, 3, 4]).reshape(1, 4)\n"
   ]
  },
  {
   "cell_type": "code",
   "execution_count": null,
   "metadata": {},
   "outputs": [],
   "source": [
    "# broadcast matrice + vecteur (colonne)\n",
    "arr + np.array([1, 2, 3, 4]).reshape(4, 1)"
   ]
  },
  {
   "cell_type": "code",
   "execution_count": null,
   "metadata": {},
   "outputs": [],
   "source": [
    "# reshape (x, y) => (y, x) => transposition\n",
    "row = np.array([1, 2, 3, 4]).reshape(1, 4)\n",
    "col = row.T\n",
    "row, col"
   ]
  },
  {
   "cell_type": "code",
   "execution_count": null,
   "metadata": {},
   "outputs": [],
   "source": [
    "# row.dot(col) => normal 1, 4 x 4, 1 => scalire\n",
    "row @ col\n",
    "# attention 4, 1 x 1, 4 => matrice 4, 4\n",
    "col @ row"
   ]
  },
  {
   "cell_type": "code",
   "execution_count": null,
   "metadata": {},
   "outputs": [],
   "source": [
    "# certaines opérations ont besoin de dimension analogues\n",
    "[1, 2, 4] @ col"
   ]
  },
  {
   "cell_type": "code",
   "execution_count": null,
   "metadata": {},
   "outputs": [],
   "source": [
    "## atention: pour broadcaster la variable \n",
    "## doit avoir des dimensions analogues a la variable de départ\n",
    "arr + np.ones((4,2))"
   ]
  },
  {
   "cell_type": "code",
   "execution_count": null,
   "metadata": {},
   "outputs": [],
   "source": [
    "# application linéaire\n",
    "3 * arr + row"
   ]
  },
  {
   "cell_type": "code",
   "execution_count": null,
   "metadata": {},
   "outputs": [],
   "source": [
    "# vectorisation permet la lisibilité du code et \n",
    "# d'oublier la boucle for en python (moins performante)\n",
    "np.around(np.cos(arr) + np.pi / 2, 2)"
   ]
  },
  {
   "cell_type": "code",
   "execution_count": null,
   "metadata": {},
   "outputs": [],
   "source": [
    "patients = np.array([[1.65, 64, 126, 76], [1.78, 95, 136, 85]])\n",
    "patients"
   ]
  },
  {
   "cell_type": "code",
   "execution_count": null,
   "metadata": {},
   "outputs": [],
   "source": [
    "# aggrégats liés à toutes les données\n",
    "# patients.mean(), patients.max(), patients.size \n",
    "np.mean(patients, axis=0)\n",
    "# la moyenne est appliquée sur les objets lignes directement\n",
    "(patients[0] + patients[1])/2\n",
    "\n",
    "np.mean(patients, axis=1)\n",
    "# la moyenne est appliquée à l'intérieur des lignes i.e les objets colonnes\n",
    "np.array([patients[0].mean(), patients[1].mean()])\n",
    "np.mean(patients.T, axis=0)\n",
    "\n",
    "# ==> axis = 0 == LIGNE, axis =1 == COLONNES\n"
   ]
  },
  {
   "cell_type": "code",
   "execution_count": null,
   "metadata": {},
   "outputs": [],
   "source": [
    "# example de l'imc donc je dois manipuler les attributs des lignes donc => les objets colones\n",
    "# avec des lambda = avec l'axe 1 => le param de la fct est la ligne\n",
    "np.apply_along_axis(lambda line : line[1]/(line[0]**2), arr=patients, axis=1)"
   ]
  },
  {
   "cell_type": "code",
   "execution_count": null,
   "metadata": {},
   "outputs": [],
   "source": [
    "# fonction custom sur les lignes\n",
    "# avec des lambda = avec l'axe 0 => le param de la fct est la colonne\n",
    "np.apply_along_axis(lambda c: np.average(c, weights=[0.75,1]), arr=patients, axis=0)\n",
    "(0.75*patients[0] + patients[1])/1.75"
   ]
  },
  {
   "attachments": {},
   "cell_type": "markdown",
   "metadata": {},
   "source": [
    "#### filtrer un tableau"
   ]
  },
  {
   "cell_type": "code",
   "execution_count": null,
   "metadata": {},
   "outputs": [],
   "source": [
    "arr = rng.integers(1, 100, size=20)\n",
    "arr"
   ]
  },
  {
   "cell_type": "code",
   "execution_count": null,
   "metadata": {},
   "outputs": [],
   "source": [
    "cond_inf_50 = arr < 50\n",
    "# transtypage en booléen\n",
    "cond_odd = (arr % 2).astype(dtype=np.bool_)\n",
    "# arr[cond_inf_50]\n",
    "## opérateurs booléen en filtrage: &, |, ~ non\n",
    "arr[(arr < 50) & (~cond_odd)]"
   ]
  },
  {
   "cell_type": "code",
   "execution_count": null,
   "metadata": {},
   "outputs": [],
   "source": [
    "(arr % 2).astype(dtype=\"bool\")\n"
   ]
  },
  {
   "attachments": {},
   "cell_type": "markdown",
   "metadata": {},
   "source": [
    "#### données non existantes"
   ]
  },
  {
   "cell_type": "code",
   "execution_count": 7,
   "metadata": {},
   "outputs": [
    {
     "data": {
      "text/plain": [
       "dtype('float64')"
      ]
     },
     "execution_count": 7,
     "metadata": {},
     "output_type": "execute_result"
    }
   ],
   "source": [
    "# une donnée indéterminée dans une structure numpy concernée dans une opération,\n",
    "# implique un résultat indéterminé\n",
    "arr = np.array([1, 2, np.nan])\n",
    "arr.sum()\n",
    "# nan est considéré comme un réél\n",
    "arr.dtype"
   ]
  },
  {
   "cell_type": "code",
   "execution_count": 11,
   "metadata": {},
   "outputs": [
    {
     "data": {
      "text/plain": [
       "3"
      ]
     },
     "execution_count": 11,
     "metadata": {},
     "output_type": "execute_result"
    }
   ],
   "source": [
    "# dégager les nan\n",
    "np.sum(arr[~np.isnan(arr)].astype(\"i1\"))\n",
    "np.nansum(arr).astype(\"i1\")"
   ]
  },
  {
   "cell_type": "code",
   "execution_count": 13,
   "metadata": {},
   "outputs": [
    {
     "data": {
      "text/plain": [
       "4.5"
      ]
     },
     "execution_count": 13,
     "metadata": {},
     "output_type": "execute_result"
    }
   ],
   "source": [
    "# corrompre les nan\n",
    "arr[np.isnan(arr)] = np.nanmean(arr)\n",
    "arr, np.sum(arr)"
   ]
  },
  {
   "cell_type": "code",
   "execution_count": null,
   "metadata": {},
   "outputs": [],
   "source": []
  }
 ],
 "metadata": {
  "kernelspec": {
   "display_name": ".venv",
   "language": "python",
   "name": "python3"
  },
  "language_info": {
   "codemirror_mode": {
    "name": "ipython",
    "version": 3
   },
   "file_extension": ".py",
   "mimetype": "text/x-python",
   "name": "python",
   "nbconvert_exporter": "python",
   "pygments_lexer": "ipython3",
   "version": "3.11.0"
  },
  "orig_nbformat": 4
 },
 "nbformat": 4,
 "nbformat_minor": 2
}
