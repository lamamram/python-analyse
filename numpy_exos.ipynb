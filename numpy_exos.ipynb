{
 "cells": [
  {
   "attachments": {},
   "cell_type": "markdown",
   "metadata": {},
   "source": [
    "### exercices"
   ]
  },
  {
   "cell_type": "code",
   "execution_count": 11,
   "metadata": {},
   "outputs": [
    {
     "data": {
      "text/plain": [
       "'1.26.3'"
      ]
     },
     "execution_count": 11,
     "metadata": {},
     "output_type": "execute_result"
    }
   ],
   "source": [
    "import numpy as np\n",
    "from time import time\n",
    "from scipy import stats\n",
    "rng = np.random.default_rng(seed=int(time()))\n",
    "np.__version__"
   ]
  },
  {
   "cell_type": "code",
   "execution_count": 5,
   "metadata": {},
   "outputs": [
    {
     "name": "stdout",
     "output_type": "stream",
     "text": [
      "[8 9 8 7 4 6 4 4 5 6] [6 6 5 6 4 6 8 5 6 7]\n",
      "[9]\n"
     ]
    },
    {
     "data": {
      "text/plain": [
       "array([4, 5, 6, 7, 8], dtype=int64)"
      ]
     },
     "execution_count": 5,
     "metadata": {},
     "output_type": "execute_result"
    }
   ],
   "source": [
    "# unpacking\n",
    "arr1, arr2 = [ rng.integers(1, 10, size=10) for _ in range(2) ]\n",
    "print(arr1, arr2)\n",
    "# Q: rendre le tableau des valeurs qui ne sont pas doublonné\n",
    "print(np.unique(np.concatenate([arr1[~np.isin(arr1, arr2)], arr2[~np.isin(arr2, arr1)]])))\n",
    "# Q: données doublonnées => intersection\n",
    "np.intersect1d(arr1, arr2)"
   ]
  },
  {
   "cell_type": "code",
   "execution_count": 12,
   "metadata": {},
   "outputs": [
    {
     "data": {
      "text/plain": [
       "-0.0035724581330448535"
      ]
     },
     "execution_count": 12,
     "metadata": {},
     "output_type": "execute_result"
    }
   ],
   "source": [
    "\n",
    "# calculer un taux moyen de retour d'une action\n",
    "arr = np.array([1000, 1320, 1148, 855, 993])\n",
    "# 1. trouver le tableau des taux d'accroissement (p(t+1) - p(t))/p(t) + 1 > 1 'si augmentation et < 1 pour baisse\n",
    "rates = np.around(np.diff(arr)/arr[:-1] + 1, 2)\n",
    "# rates.mean() - 1\n",
    "stats.gmean(rates) - 1\n",
    "# arith: sigma(x)/nb_valeur\n",
    "# géométrique : racine_nb_valeur(PI(x))"
   ]
  },
  {
   "cell_type": "code",
   "execution_count": 13,
   "metadata": {},
   "outputs": [
    {
     "data": {
      "text/plain": [
       "array(nan)"
      ]
     },
     "execution_count": 13,
     "metadata": {},
     "output_type": "execute_result"
    }
   ],
   "source": [
    "# patients.txt\n",
    "arr = np.genfromtxt(\n",
    "    \"patients.txt\",\n",
    "    delimiter=\",\"\n",
    ")\n",
    "arr"
   ]
  },
  {
   "cell_type": "code",
   "execution_count": null,
   "metadata": {},
   "outputs": [],
   "source": []
  }
 ],
 "metadata": {
  "kernelspec": {
   "display_name": ".venv",
   "language": "python",
   "name": "python3"
  },
  "language_info": {
   "codemirror_mode": {
    "name": "ipython",
    "version": 3
   },
   "file_extension": ".py",
   "mimetype": "text/x-python",
   "name": "python",
   "nbconvert_exporter": "python",
   "pygments_lexer": "ipython3",
   "version": "3.11.0"
  },
  "orig_nbformat": 4
 },
 "nbformat": 4,
 "nbformat_minor": 2
}
