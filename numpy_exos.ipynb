{
 "cells": [
  {
   "attachments": {},
   "cell_type": "markdown",
   "metadata": {},
   "source": [
    "### exercices"
   ]
  },
  {
   "cell_type": "code",
   "execution_count": null,
   "metadata": {},
   "outputs": [],
   "source": [
    "# unpacking\n",
    "arr1, arr2 = [ rng.integers(1, 10, size=10) for _ in range(2) ]\n",
    "print(arr1, arr2)\n",
    "# Q: rendre le tableau des valeurs qui ne sont pas doublonné\n",
    "print(np.unique(np.concatenate([arr1[~np.isin(arr1, arr2)], arr2[~np.isin(arr2, arr1)]])))"
   ]
  },
  {
   "cell_type": "code",
   "execution_count": null,
   "metadata": {},
   "outputs": [],
   "source": []
  }
 ],
 "metadata": {
  "kernelspec": {
   "display_name": ".venv",
   "language": "python",
   "name": "python3"
  },
  "language_info": {
   "name": "python",
   "version": "3.11.0"
  },
  "orig_nbformat": 4
 },
 "nbformat": 4,
 "nbformat_minor": 2
}
