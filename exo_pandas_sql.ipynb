{
 "cells": [
  {
   "attachments": {},
   "cell_type": "markdown",
   "metadata": {},
   "source": [
    "### LECTURE & ECRITURE PANDAS <=> SQL\n",
    "\n",
    "* énoncé:\n",
    "  1. télécharger l'url et écrire en local si **ce n'est pas déjà fait**\n",
    "     > ATTENTION encodage **iso-8859-1**\n",
    "  2. se donner un dataframe avec le \"Nom de domaine\" et le \"Pays BE\" et un millions de ligns\n",
    "  3. renommer les colonnes du df comme les colonnes de la table domain_name\n",
    "  4. créer la base de données dns.db depuis le fichier .sql\n",
    "  5. connecter sqlaclhemy sur la bdd\n",
    "  6. utiliser Dataframe.to_sql pour écrire dans la table domain_name\n",
    "  7. lire table dans un dataframe"
   ]
  },
  {
   "cell_type": "code",
   "execution_count": null,
   "metadata": {},
   "outputs": [],
   "source": [
    "import os\n",
    "import sqlite3\n",
    "import pandas as pd\n",
    "from time import time\n",
    "import numpy as np\n",
    "\n",
    "# pip install SQLAlchemy\n",
    "# créer une connexion de bdd\n",
    "from sqlalchemy import create_engine\n",
    "# pour créer / modifier un schéma de db\n",
    "from sqlalchemy.types import Integer, String, Text\n",
    "\n",
    "URL = \"http://www.afnic.fr/wp-media/ftp/documentsOpenData/202105_OPENDATA_A-NomsDeDomaineEnPointFr.zip\""
   ]
  },
  {
   "cell_type": "code",
   "execution_count": null,
   "metadata": {},
   "outputs": [],
   "source": []
  }
 ],
 "metadata": {
  "language_info": {
   "name": "python"
  },
  "orig_nbformat": 4
 },
 "nbformat": 4,
 "nbformat_minor": 2
}
