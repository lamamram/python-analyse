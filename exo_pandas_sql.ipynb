{
 "cells": [
  {
   "cell_type": "markdown",
   "metadata": {},
   "source": [
    "### LECTURE & ECRITURE PANDAS <=> SQL"
   ]
  },
  {
   "cell_type": "code",
   "execution_count": null,
   "metadata": {},
   "outputs": [],
   "source": [
    "import os\n",
    "import sqlite3\n",
    "import pandas as pd\n",
    "from time import time\n",
    "import numpy as np\n",
    "\n",
    "# pip install SQLAlchemy\n",
    "# créer une connexion de bdd\n",
    "from sqlalchemy import create_engine\n",
    "# pour créer / modifier un schéma de db\n",
    "from sqlalchemy.types import Integer, String, Text\n",
    "\n",
    "URL = \"http://www.afnic.fr/wp-media/ftp/documentsOpenData/202105_OPENDATA_A-NomsDeDomaineEnPointFr.zip\""
   ]
  }
 ],
 "metadata": {
  "language_info": {
   "name": "python"
  },
  "orig_nbformat": 4
 },
 "nbformat": 4,
 "nbformat_minor": 2
}
